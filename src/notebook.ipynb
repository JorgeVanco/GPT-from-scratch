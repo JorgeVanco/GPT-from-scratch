{
 "cells": [
  {
   "cell_type": "markdown",
   "metadata": {},
   "source": [
    "# Preparing the data"
   ]
  },
  {
   "cell_type": "code",
   "execution_count": 6,
   "metadata": {},
   "outputs": [],
   "source": [
    "data_path = \"data/input.txt\"\n",
    "with open(data_path) as fp:\n",
    "    data = fp.read()"
   ]
  },
  {
   "cell_type": "code",
   "execution_count": 7,
   "metadata": {},
   "outputs": [],
   "source": [
    "import tiktoken\n",
    "encoder = tiktoken.get_encoding(\"gpt2\")"
   ]
  },
  {
   "cell_type": "code",
   "execution_count": 8,
   "metadata": {},
   "outputs": [
    {
     "data": {
      "text/plain": [
       "[5962, 22307, 25, 198, 8421, 356, 5120, 597, 2252, 11]"
      ]
     },
     "execution_count": 8,
     "metadata": {},
     "output_type": "execute_result"
    }
   ],
   "source": [
    "encoder.encode(data, allowed_special=\"all\")[:10]"
   ]
  },
  {
   "cell_type": "markdown",
   "metadata": {},
   "source": [
    "# Datasets"
   ]
  },
  {
   "cell_type": "code",
   "execution_count": 9,
   "metadata": {},
   "outputs": [],
   "source": [
    "import torch\n",
    "from torch.utils.data import DataLoader, Dataset\n",
    "\n",
    "class TextDataset(Dataset):\n",
    "    def __init__(self, text, max_length, stride, encoder=\"gpt2\") -> None:\n",
    "        self.data_text = text\n",
    "        self.max_length = max_length\n",
    "        self.stride = stride\n",
    "        self.encoder = tiktoken.get_encoding(encoder)\n",
    "\n",
    "        self.input_ids = []\n",
    "        self.target_ids = []\n",
    "\n",
    "        self.preprocess_dataset()\n",
    "\n",
    "    def preprocess_dataset(self) -> None:\n",
    "        encoded_data = self.encoder.encode(self.data_text)\n",
    "        \n",
    "        for i in range(0, len(encoded_data) - self.max_length, self.stride):\n",
    "            self.input_ids.append(torch.tensor(encoded_data[i: i+self.max_length]))\n",
    "            self.target_ids.append(torch.tensor(encoded_data[i+1: i+self.max_length+1]))\n",
    "\n",
    "    \n",
    "    def __getitem__(self, index) -> tuple:\n",
    "        return self.input_ids[index], self.target_ids[index]\n",
    "    \n",
    "    def __len__(self) -> int:\n",
    "        return len(self.input_ids)\n",
    "        "
   ]
  },
  {
   "cell_type": "code",
   "execution_count": 10,
   "metadata": {},
   "outputs": [],
   "source": [
    "def train_test_split(data:str, train_ratio:float) -> tuple[str, str]:\n",
    "    n = int(len(data) * train_ratio)\n",
    "    training_text = data[:n]\n",
    "    testing_text = data[n:]\n",
    "    return training_text, testing_text"
   ]
  },
  {
   "cell_type": "code",
   "execution_count": 11,
   "metadata": {},
   "outputs": [],
   "source": [
    "def create_dataloader(text, max_length, stride, batch_size, tokenizer=\"gpt2\", shuffle=True, drop_last=True,num_workers=0) -> DataLoader:\n",
    "    dataset = TextDataset(text, max_length, stride, tokenizer)\n",
    "    return DataLoader(dataset, batch_size, shuffle, num_workers=num_workers, drop_last=drop_last)"
   ]
  },
  {
   "cell_type": "code",
   "execution_count": 12,
   "metadata": {},
   "outputs": [],
   "source": [
    "train_data, test_data = train_test_split(data, 0.9)\n",
    "train_dataloader = create_dataloader(train_data, 4, 2, 4, shuffle=False)\n",
    "test_dataloader = create_dataloader(test_data, 4, 2, 4, shuffle=False)"
   ]
  },
  {
   "cell_type": "code",
   "execution_count": 13,
   "metadata": {},
   "outputs": [
    {
     "data": {
      "text/plain": [
       "[tensor([[   30,   198,   198, 28934],\n",
       "         [  198, 28934,  8895,    46],\n",
       "         [ 8895,    46,    25,   198],\n",
       "         [   25,   198, 10248,  2146]]),\n",
       " tensor([[  198,   198, 28934,  8895],\n",
       "         [28934,  8895,    46,    25],\n",
       "         [   46,    25,   198, 10248],\n",
       "         [  198, 10248,  2146,   808]])]"
      ]
     },
     "execution_count": 13,
     "metadata": {},
     "output_type": "execute_result"
    }
   ],
   "source": [
    "next(iter(test_dataloader))"
   ]
  },
  {
   "cell_type": "markdown",
   "metadata": {},
   "source": [
    "# Transformer architecture"
   ]
  },
  {
   "cell_type": "code",
   "execution_count": 14,
   "metadata": {},
   "outputs": [],
   "source": [
    "import torch.nn as nn"
   ]
  },
  {
   "cell_type": "code",
   "execution_count": 15,
   "metadata": {},
   "outputs": [
    {
     "data": {
      "text/plain": [
       "tensor([[0., 1., 1.],\n",
       "        [0., 0., 1.],\n",
       "        [0., 0., 0.]])"
      ]
     },
     "execution_count": 15,
     "metadata": {},
     "output_type": "execute_result"
    }
   ],
   "source": [
    "torch.triu(torch.ones(3,3), 1)"
   ]
  },
  {
   "cell_type": "code",
   "execution_count": 16,
   "metadata": {},
   "outputs": [
    {
     "data": {
      "text/plain": [
       "torch.Size([1, 2, 4, 3])"
      ]
     },
     "execution_count": 16,
     "metadata": {},
     "output_type": "execute_result"
    }
   ],
   "source": [
    "torch.ones((1,2,3,4)).transpose(2,3).shape"
   ]
  },
  {
   "cell_type": "code",
   "execution_count": 17,
   "metadata": {},
   "outputs": [],
   "source": [
    "class MultiheadAttention(nn.Module):\n",
    "    def __init__(self, d_in, d_out, context_length, num_heads, dropout, qkv_bias=False) -> None:\n",
    "        super().__init__()\n",
    "        assert d_out % num_heads == 0, \"d_out must be divisible by num_heads\"\n",
    "\n",
    "        self.d_in = d_in\n",
    "        self.d_out = d_out\n",
    "        self.context_length = context_length\n",
    "        self.num_heads = num_heads\n",
    "        self.head_dim = d_out // num_heads\n",
    "        self.dropout = nn.Dropout(p = dropout)\n",
    "\n",
    "        self.W_query = nn.Linear(d_in, d_out, bias = qkv_bias)\n",
    "        self.W_key = nn.Linear(d_in, d_out, bias = qkv_bias)\n",
    "        self.W_value = nn.Linear(d_in, d_out, bias = qkv_bias)\n",
    "\n",
    "        self.linear = nn.Linear(d_out, d_out)\n",
    "\n",
    "        self.register_buffer(\"mask\", torch.triu(torch.ones((context_length, context_length)), diagonal=1))\n",
    "\n",
    "    def forward(self, x:torch.tensor) -> torch.tensor:\n",
    "        b, num_tokens, emb_dim = x.shape # batch, num_tokens, emb_dimension\n",
    "        queries = self.W_query(x) # batch, num_tokens, d_out\n",
    "        keys = self.W_key(x) # batch, num_tokens, d_out\n",
    "        values = self.W_value(x) # batch, num_tokens, d_out\n",
    "\n",
    "        queries = queries.view(b, num_tokens, self.num_heads, self.head_dim) # batch, num_tokens, num_heads, head_dim\n",
    "        keys = keys.view(b, num_tokens, self.num_heads, self.head_dim) # batch, num_tokens, num_heads, head_dim\n",
    "        values = values.view(b, num_tokens, self.num_heads, self.head_dim) # batch, num_tokens, num_heads, head_dim\n",
    "\n",
    "        queries = queries.transpose(1,2) # batch, num_heads, num_tokens, head_dim\n",
    "        keys = keys.transpose(1,2) # batch, num_heads, num_tokens, head_dim\n",
    "        values = values.transpose(1,2) # batch, num_heads, num_tokens, head_dim\n",
    "\n",
    "        attn_scores = queries @ keys.transpose(2,3) # batch, num_heads, num_tokens, num_tokens\n",
    "        bool_mask = self.mask.bool()[:num_tokens, :num_tokens] # num_tokens, num_tokens\n",
    "        attn_scores.masked_fill_(bool_mask, -torch.inf) # batch, num_heads, num_tokens, num_tokens\n",
    "        attn_weights = torch.softmax(attn_scores / (keys.shape[3])**0.5, dim=3) # batch, num_heads, num_tokens, num_tokens\n",
    "        attn_weights = self.dropout(attn_weights)\n",
    "\n",
    "        z = attn_weights @ values # batch, num_heads, num_tokens, head_dim\n",
    "        z = z.transpose(1,2) # batch, num_tokens, num_heads, head_dim\n",
    "        z = z.contiguous().view(b, num_tokens, self.d_out) # batch, num_tokens, d_out\n",
    "\n",
    "        z = self.linear(z) # batch, num_tokens, d_out\n",
    "        return z"
   ]
  },
  {
   "cell_type": "code",
   "execution_count": 18,
   "metadata": {},
   "outputs": [],
   "source": [
    "class LayerNorm(nn.Module):\n",
    "    def __init__(self, embedding_dim) -> None:\n",
    "        super().__init__()\n",
    "        self.scale = nn.Parameter(torch.ones(embedding_dim))\n",
    "        self.shift = nn.Parameter(torch.zeros(embedding_dim))\n",
    "\n",
    "        self.eps = 1e-5\n",
    "\n",
    "    def forward(self, x:torch.tensor):\n",
    "        mean = x.mean(dim=-1, keepdim = True)\n",
    "        var = x.var(dim=-1, keepdim = True, unbiased = False)\n",
    "\n",
    "        x = (x - mean) / torch.sqrt(var + self.eps)\n",
    "        return self.scale * x + self.shift\n"
   ]
  },
  {
   "cell_type": "code",
   "execution_count": 19,
   "metadata": {},
   "outputs": [],
   "source": [
    "\n",
    "\n",
    "class FeedForward(nn.Module):\n",
    "    def __init__(self, emb_dim):\n",
    "        super().__init__()\n",
    "        \n",
    "        self.layers = nn.Sequential(*[\n",
    "            nn.Linear(emb_dim, 4*emb_dim),\n",
    "            nn.GELU(),\n",
    "            nn.Linear(4*emb_dim, emb_dim)\n",
    "        ])\n",
    "\n",
    "    def forward(self,x):\n",
    "        x = self.layers(x)\n",
    "        return x"
   ]
  },
  {
   "cell_type": "code",
   "execution_count": 20,
   "metadata": {},
   "outputs": [],
   "source": [
    "class TransformerBlock(nn.Module):\n",
    "    def __init__(self, context_length, embedding_dim,  num_heads, dropout, qkv_bias=False) -> None:\n",
    "        super().__init__()\n",
    "        self.layer_norm1 = LayerNorm(embedding_dim)\n",
    "        self.layer_norm2 = LayerNorm(embedding_dim)\n",
    "\n",
    "        self.dropout = nn.Dropout(dropout)\n",
    "\n",
    "        self.attention = MultiheadAttention(embedding_dim, embedding_dim, context_length, num_heads, dropout, qkv_bias)\n",
    "\n",
    "        self.ff = FeedForward(embedding_dim)\n",
    "\n",
    "    def forward(self, x):\n",
    "        x_res = x\n",
    "        x = self.layer_norm1(x)\n",
    "        x = self.attention(x)\n",
    "        x = self.dropout(x)\n",
    "        x = x_res + x\n",
    "\n",
    "        x_res = x\n",
    "        x = self.layer_norm2(x)\n",
    "        x = self.ff(x)\n",
    "        x = self.dropout(x)\n",
    "        x = x_res + x\n",
    "\n",
    "        return x\n"
   ]
  },
  {
   "cell_type": "code",
   "execution_count": 21,
   "metadata": {},
   "outputs": [],
   "source": [
    "class GPTModel(nn.Module):\n",
    "    def __init__(self, cfg) -> None:\n",
    "        super().__init__()\n",
    "        vocabulary_size = cfg[\"vocab_size\"]\n",
    "        embedding_dim = cfg[\"emb_dim\"]\n",
    "        context_length = cfg[\"context_length\"]\n",
    "        num_heads = cfg[\"n_heads\"]\n",
    "        drop_rate = cfg[\"drop_rate\"]\n",
    "        qkv_bias = cfg[\"qkv_bias\"]\n",
    "\n",
    "        self.context_length = context_length\n",
    "\n",
    "        self.token_embedding = nn.Embedding(vocabulary_size, embedding_dim)\n",
    "        self.position_embedding = nn.Embedding(context_length, embedding_dim)\n",
    "\n",
    "        self.dropout = nn.Dropout(drop_rate)\n",
    "\n",
    "        self.transformer_blocks = nn.Sequential(*[\n",
    "            TransformerBlock(context_length, embedding_dim, num_heads, drop_rate, qkv_bias) for _ in range(cfg[\"n_layers\"])\n",
    "        ])\n",
    "        self.final_layer_norm = LayerNorm(embedding_dim)\n",
    "        self.out_head = nn.Linear(embedding_dim, vocabulary_size, bias=False)\n",
    "\n",
    "    def forward(self, x):\n",
    "        b, token_length = x.shape\n",
    "        x = self.token_embedding(x) + self.position_embedding(torch.arange(0, token_length, device=x.device))\n",
    "        x = self.dropout(x)\n",
    "        x = self.transformer_blocks(x)\n",
    "        x = self.final_layer_norm(x)\n",
    "        logits = self.out_head(x)\n",
    "        return logits\n"
   ]
  },
  {
   "cell_type": "code",
   "execution_count": 22,
   "metadata": {},
   "outputs": [],
   "source": [
    "CHOOSE_MODEL = \"gpt2-small (124M)\"\n",
    "INPUT_PROMPT = \"Every effort moves\"\n",
    "BASE_CONFIG = {\n",
    "    \"vocab_size\": 50257,\n",
    "    \"context_length\": 256,\n",
    "    \"drop_rate\": 0.0,\n",
    "    \"qkv_bias\": True\n",
    "}\n",
    "model_configs = {\n",
    "    \"gpt2-small (124M)\": {\"emb_dim\": 768, \"n_layers\": 12, \"n_heads\": 12},\n",
    "    \"gpt2-medium (355M)\": {\"emb_dim\": 1024, \"n_layers\": 24, \"n_heads\": 16},\n",
    "    \"gpt2-large (774M)\": {\"emb_dim\": 1280, \"n_layers\": 36, \"n_heads\": 20},\n",
    "    \"gpt2-xl (1558M)\": {\"emb_dim\": 1600, \"n_layers\": 48, \"n_heads\": 25},\n",
    "}\n",
    "BASE_CONFIG.update(model_configs[CHOOSE_MODEL])"
   ]
  },
  {
   "cell_type": "code",
   "execution_count": 23,
   "metadata": {},
   "outputs": [],
   "source": [
    "gpt = GPTModel(BASE_CONFIG)"
   ]
  },
  {
   "cell_type": "code",
   "execution_count": 24,
   "metadata": {},
   "outputs": [
    {
     "data": {
      "text/plain": [
       "162447360"
      ]
     },
     "execution_count": 24,
     "metadata": {},
     "output_type": "execute_result"
    }
   ],
   "source": [
    "sum(p.numel() for p in gpt.parameters())"
   ]
  },
  {
   "cell_type": "markdown",
   "metadata": {},
   "source": [
    "# TRAINING"
   ]
  },
  {
   "cell_type": "code",
   "execution_count": 25,
   "metadata": {},
   "outputs": [],
   "source": [
    "# import torch.nn.functional as F\n",
    "def calc_loss_batch(input_batch, target_batch, model, device):\n",
    "    input_batch = input_batch.to(device)\n",
    "    target_batch = target_batch.to(device)\n",
    "    logits = model(input_batch)\n",
    "    loss = torch.nn.functional.cross_entropy(logits.flatten(0,1), target_batch.flatten())\n",
    "    return loss"
   ]
  },
  {
   "cell_type": "code",
   "execution_count": 26,
   "metadata": {},
   "outputs": [],
   "source": [
    "@torch.no_grad()\n",
    "def calc_loss_loader(loader, model, device, num_batches = None):\n",
    "    total_loss = 0\n",
    "    if len(loader) == 0:\n",
    "        return float(\"nan\")\n",
    "    elif num_batches is None:\n",
    "        num_batches = len(loader)\n",
    "    else:\n",
    "        num_batches = min(num_batches, len(loader))\n",
    "    \n",
    "    for i, (input_batch, target_batch) in enumerate(loader):\n",
    "        if i >= num_batches:\n",
    "            break\n",
    "        loss = calc_loss_batch(input_batch, target_batch, model, device)\n",
    "        total_loss += loss.item()\n",
    "    return total_loss / num_batches\n",
    "    \n"
   ]
  },
  {
   "cell_type": "code",
   "execution_count": 27,
   "metadata": {},
   "outputs": [
    {
     "name": "stdout",
     "output_type": "stream",
     "text": [
      "Training loss: 10.886888885498047\n",
      "Validation loss: 11.071577644348144\n"
     ]
    }
   ],
   "source": [
    "device = torch.device(\"cuda\" if torch.cuda.is_available() else \"cpu\")\n",
    "gpt.to(device)\n",
    "with torch.no_grad():\n",
    "    train_loss = calc_loss_loader(train_dataloader, gpt, device,5)\n",
    "    val_loss = calc_loss_loader(test_dataloader, gpt, device,5)\n",
    "print(\"Training loss:\", train_loss)\n",
    "print(\"Validation loss:\", val_loss)"
   ]
  },
  {
   "cell_type": "markdown",
   "metadata": {},
   "source": [
    "# LoRA"
   ]
  },
  {
   "cell_type": "code",
   "execution_count": 28,
   "metadata": {},
   "outputs": [],
   "source": [
    "import math\n",
    "class LoRALayer(nn.Module):\n",
    "    def __init__(self, in_dim:int, out_dim:int, rank:int, alpha:float) -> None:\n",
    "        super().__init__()\n",
    "        self.A = nn.Parameter(torch.empty(in_dim, rank))\n",
    "        nn.init.kaiming_uniform_(self.A, a = math.sqrt(5))\n",
    "        self.B = nn.Parameter(torch.zeros(rank, out_dim))\n",
    "        self.alpha = alpha\n",
    "\n",
    "    def forward(self, x: torch.Tensor) -> torch.Tensor:\n",
    "        return self.alpha * (x @ self.A @ self.B)\n",
    "\n",
    "class LinearWithLoRA(nn.Module):\n",
    "    def __init__(self, linear:nn.Linear, rank:int, alpha:float) -> None:\n",
    "        super().__init__()\n",
    "        self.linear = linear\n",
    "        self.lora = LoRALayer(linear.in_features, linear.out_features, rank, alpha)\n",
    "\n",
    "    def forward(self, x: torch.Tensor) -> torch.Tensor:\n",
    "        return self.linear(x) + self.lora(x)"
   ]
  },
  {
   "cell_type": "code",
   "execution_count": 29,
   "metadata": {},
   "outputs": [],
   "source": [
    "def replace_linear_with_lora(model:nn.Module, rank, alpha) -> None:\n",
    "    for name, module in model.named_children():\n",
    "        if isinstance(module, nn.Linear):\n",
    "            setattr(model, name, LinearWithLoRA(module, rank, alpha))\n",
    "        else:\n",
    "            replace_linear_with_lora(module, rank, alpha)\n",
    "\n",
    "# class LoRALayer(torch.nn.Module):\n",
    "#     def __init__(self, in_dim, out_dim, rank, alpha):\n",
    "#         super().__init__()\n",
    "#         self.A = torch.nn.Parameter(torch.empty(in_dim, rank))\n",
    "#         torch.nn.init.kaiming_uniform_(self.A, a=math.sqrt(5)) # same initialization as in Linear Layers\n",
    "#         self.B = torch.nn.Parameter(torch.zeros(rank, out_dim))\n",
    "#         self.alpha = alpha\n",
    "\n",
    "#     def forward(self, x):\n",
    "#         x = self.alpha * (x @ self.A @ self.B)\n",
    "#         return x\n",
    "# class LinearWithLoRA(torch.nn.Module):\n",
    "#     def __init__(self, linear, rank, alpha):\n",
    "#         super().__init__()\n",
    "#         self.linear = linear\n",
    "#         self.lora = LoRALayer(\n",
    "#             linear.in_features, linear.out_features, rank, alpha\n",
    "#         )\n",
    "\n",
    "#     def forward(self, x):\n",
    "#         return self.linear(x) + self.lora(x)\n",
    "# def replace_linear_with_lora(model, rank, alpha):\n",
    "#     for name, module in model.named_children():\n",
    "#         if isinstance(module, torch.nn.Linear):\n",
    "#             setattr(model, name, LinearWithLoRA(module, rank, alpha))\n",
    "#         else:\n",
    "#             replace_linear_with_lora(module, rank, alpha)"
   ]
  },
  {
   "cell_type": "code",
   "execution_count": 30,
   "metadata": {},
   "outputs": [
    {
     "name": "stdout",
     "output_type": "stream",
     "text": [
      "Total trainable parameters before: 162,447,360\n",
      "Total trainable parameters after: 0\n"
     ]
    }
   ],
   "source": [
    "total_params = sum(p.numel() for p in gpt.parameters() if p.requires_grad)\n",
    "print(f\"Total trainable parameters before: {total_params:,}\")\n",
    "\n",
    "for param in gpt.parameters():\n",
    "    param.requires_grad = False\n",
    "total_params = sum(p.numel() for p in gpt.parameters() if p.requires_grad)\n",
    "print(f\"Total trainable parameters after: {total_params:,}\")"
   ]
  },
  {
   "cell_type": "code",
   "execution_count": 31,
   "metadata": {},
   "outputs": [
    {
     "name": "stdout",
     "output_type": "stream",
     "text": [
      "Total trainable LoRA parameters: 3,470,608\n"
     ]
    }
   ],
   "source": [
    "replace_linear_with_lora(gpt, rank=16, alpha=16)\n",
    "total_params = sum(p.numel() for p in gpt.parameters() if p.requires_grad)\n",
    "print(f\"Total trainable LoRA parameters: {total_params:,}\")\n"
   ]
  },
  {
   "cell_type": "markdown",
   "metadata": {},
   "source": [
    "# Generating text"
   ]
  },
  {
   "cell_type": "code",
   "execution_count": 36,
   "metadata": {},
   "outputs": [
    {
     "data": {
      "text/plain": [
       "tensor([[[-0.6410, -0.4965, -0.0301,  ..., -0.4171,  0.7589, -0.2228],\n",
       "         [-0.4986, -0.5469, -0.4313,  ...,  0.1534,  0.1382, -0.8233],\n",
       "         [-0.2671, -0.3275,  0.1933,  ...,  0.1961,  0.6865, -0.5055],\n",
       "         [-0.9541, -0.0805,  0.3294,  ..., -0.3159, -0.0850, -0.8464],\n",
       "         [ 0.6158,  0.0848,  0.1970,  ...,  0.6363, -0.2360, -0.5587]]],\n",
       "       device='cuda:0', grad_fn=<UnsafeViewBackward0>)"
      ]
     },
     "execution_count": 36,
     "metadata": {},
     "output_type": "execute_result"
    }
   ],
   "source": [
    "import tiktoken\n",
    "gpt = GPTModel(BASE_CONFIG)\n",
    "gpt.to(device)\n",
    "encoder = tiktoken.get_encoding(\"gpt2\")\n",
    "context_encoded = encoder.encode(\"Hola, qué\")\n",
    "probas = gpt(torch.tensor([context_encoded], device=device))\n",
    "probas"
   ]
  },
  {
   "cell_type": "code",
   "execution_count": 41,
   "metadata": {},
   "outputs": [
    {
     "data": {
      "text/plain": [
       "torch.Size([1, 50257])"
      ]
     },
     "execution_count": 41,
     "metadata": {},
     "output_type": "execute_result"
    }
   ],
   "source": [
    "probas[:, -1, :].shape"
   ]
  },
  {
   "cell_type": "code",
   "execution_count": 42,
   "metadata": {},
   "outputs": [
    {
     "data": {
      "text/plain": [
       "torch.return_types.topk(\n",
       "values=tensor([5, 3, 2]),\n",
       "indices=tensor([3, 1, 0]))"
      ]
     },
     "execution_count": 42,
     "metadata": {},
     "output_type": "execute_result"
    }
   ],
   "source": [
    "torch.topk(torch.tensor([2,3,1,5,-2]), 3)"
   ]
  },
  {
   "cell_type": "code",
   "execution_count": 63,
   "metadata": {},
   "outputs": [
    {
     "data": {
      "text/plain": [
       "'hello, how Outbreak valleysfo majoritieslisups ourUnknownbent Forwardclair Emacs Assistance'"
      ]
     },
     "execution_count": 63,
     "metadata": {},
     "output_type": "execute_result"
    }
   ],
   "source": [
    "def text_to_tokens(text, tokenizer):\n",
    "    tokens = tokenizer.encode(text)\n",
    "    tokens_tensor = torch.tensor(tokens).unsqueeze(0)\n",
    "    return tokens_tensor\n",
    "\n",
    "def tokens_to_text(tokens, tokenizer):\n",
    "    return tokenizer.decode(tokens.squeeze().tolist())\n",
    "\n",
    "def generate_text(model, context, max_length, device, tokenizer =\"gpt2\", temperature = 0.0, top_k=None, eos_id=None) -> None:\n",
    "    encoder = tiktoken.get_encoding(tokenizer)\n",
    "    context_encoded = text_to_tokens(context, encoder).to(device)\n",
    "\n",
    "    total_max_length = context_encoded.shape[1] + max_length\n",
    "\n",
    "    context_length = model.context_length\n",
    "\n",
    "    for _ in range(total_max_length):\n",
    "        input_tokens = context_encoded[-context_length:]\n",
    "        with torch.no_grad():\n",
    "            logits = model(input_tokens)[:, -1, :]\n",
    "\n",
    "        if top_k is not None:\n",
    "            top_logits, _ = torch.topk(logits, top_k)\n",
    "            min_val = top_logits[:, -1]\n",
    "            logits = torch.where(logits < min_val, torch.tensor(-torch.inf).to(logits.device), logits)\n",
    "\n",
    "        if temperature > 0.0:\n",
    "            logits = logits / temperature\n",
    "            probas = torch.softmax(logits, dim = -1)\n",
    "            output_tokens = torch.multinomial(probas, num_samples = 1)\n",
    "\n",
    "        else:\n",
    "            output_tokens = torch.argmax(logits, dim=-1, keepdim=True)\n",
    "\n",
    "        if output_tokens[0][0] == eos_id:\n",
    "            break\n",
    "\n",
    "        context_encoded = torch.cat((context_encoded, output_tokens), dim=1)\n",
    "\n",
    "    return tokens_to_text(context_encoded, encoder)\n",
    "    \n",
    "# gpt = GPTModel(BASE_CONFIG)\n",
    "# gpt.to(device)\n",
    "generate_text(gpt, \"hello, how\", 10, device)"
   ]
  },
  {
   "cell_type": "markdown",
   "metadata": {},
   "source": [
    "# Training function"
   ]
  },
  {
   "cell_type": "code",
   "execution_count": 93,
   "metadata": {},
   "outputs": [],
   "source": [
    "from tqdm import tqdm\n",
    "def train(model, train_dataloader, val_dataloader, epochs, optimizer, device, eval_freq=100, eval_iter=5) -> tuple:\n",
    "    train_losses, val_losses = [], []\n",
    "    global_step = -1\n",
    "    model.train()\n",
    "    for epoch in range(epochs):\n",
    "        for input_batch, target_batch in tqdm(train_dataloader):\n",
    "            optimizer.zero_grad()\n",
    "\n",
    "            loss = calc_loss_batch(input_batch, target_batch, model, device)\n",
    "            loss.backward()\n",
    "\n",
    "            optimizer.step()\n",
    "\n",
    "            global_step += 1\n",
    "            if global_step % eval_freq == 0:\n",
    "                model.eval()\n",
    "                with torch.no_grad():\n",
    "                    train_loss = calc_loss_loader(train_dataloader, model, device, num_batches=eval_iter)\n",
    "                    val_loss = calc_loss_loader(val_dataloader, model, device, num_batches=eval_iter)\n",
    "                    train_losses.append(train_loss)\n",
    "                    val_losses.append(val_loss)\n",
    "                    print(f\"Epoch {epoch+1}/{epochs} - Train loss: {train_loss:.4f} - Val loss: {val_loss:.4f}\")\n",
    "                model.train()\n",
    "    return train_losses, val_losses\n"
   ]
  },
  {
   "cell_type": "code",
   "execution_count": 94,
   "metadata": {},
   "outputs": [
    {
     "name": "stdout",
     "output_type": "stream",
     "text": [
      "Train dataloader length: 589\n",
      "Test dataloader length: 70\n"
     ]
    },
    {
     "name": "stderr",
     "output_type": "stream",
     "text": [
      "100%|██████████| 589/589 [16:30<00:00,  1.68s/it]\n"
     ]
    },
    {
     "name": "stdout",
     "output_type": "stream",
     "text": [
      "Epoch 1/1 - Train loss: 7.0039 - Val loss: 7.3345\n"
     ]
    },
    {
     "data": {
      "text/plain": [
       "([7.003924369812012], [7.334486293792724])"
      ]
     },
     "execution_count": 94,
     "metadata": {},
     "output_type": "execute_result"
    }
   ],
   "source": [
    "train_data, test_data = train_test_split(data, 0.9)\n",
    "train_dataloader = create_dataloader(train_data, BASE_CONFIG[\"context_length\"], BASE_CONFIG[\"context_length\"], 2, shuffle=True)\n",
    "test_dataloader = create_dataloader(test_data, BASE_CONFIG[\"context_length\"], BASE_CONFIG[\"context_length\"], 2, shuffle=True)\n",
    "print(\"Train dataloader length:\", len(train_dataloader))\n",
    "print(\"Test dataloader length:\", len(test_dataloader))\n",
    "\n",
    "optimizer = torch.optim.AdamW(gpt.parameters(), 0.01)\n",
    "gpt.to(device)\n",
    "train(gpt, train_dataloader, test_dataloader, 1, optimizer, device)"
   ]
  },
  {
   "cell_type": "code",
   "execution_count": 95,
   "metadata": {},
   "outputs": [],
   "source": [
    "torch.save(gpt.state_dict(), \"gpt_lora.pth\")"
   ]
  },
  {
   "cell_type": "code",
   "execution_count": null,
   "metadata": {},
   "outputs": [],
   "source": []
  }
 ],
 "metadata": {
  "kernelspec": {
   "display_name": "base",
   "language": "python",
   "name": "python3"
  },
  "language_info": {
   "codemirror_mode": {
    "name": "ipython",
    "version": 3
   },
   "file_extension": ".py",
   "mimetype": "text/x-python",
   "name": "python",
   "nbconvert_exporter": "python",
   "pygments_lexer": "ipython3",
   "version": "3.11.5"
  }
 },
 "nbformat": 4,
 "nbformat_minor": 2
}
