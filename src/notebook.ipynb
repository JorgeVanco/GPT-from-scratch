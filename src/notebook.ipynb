{
 "cells": [
  {
   "cell_type": "markdown",
   "metadata": {},
   "source": [
    "# Preparing the data"
   ]
  },
  {
   "cell_type": "code",
   "execution_count": 1,
   "metadata": {},
   "outputs": [],
   "source": [
    "data_path = \"data/input.txt\"\n",
    "with open(data_path) as fp:\n",
    "    data = fp.read()"
   ]
  },
  {
   "cell_type": "code",
   "execution_count": 4,
   "metadata": {},
   "outputs": [],
   "source": [
    "import tiktoken\n",
    "encoder = tiktoken.get_encoding(\"gpt2\")"
   ]
  },
  {
   "cell_type": "code",
   "execution_count": 9,
   "metadata": {},
   "outputs": [
    {
     "data": {
      "text/plain": [
       "[5962, 22307, 25, 198, 8421, 356, 5120, 597, 2252, 11]"
      ]
     },
     "execution_count": 9,
     "metadata": {},
     "output_type": "execute_result"
    }
   ],
   "source": [
    "encoder.encode(data, allowed_special=\"all\")[:10]"
   ]
  },
  {
   "cell_type": "markdown",
   "metadata": {},
   "source": [
    "# Datasets"
   ]
  },
  {
   "cell_type": "code",
   "execution_count": 31,
   "metadata": {},
   "outputs": [],
   "source": [
    "from torch.utils.data import DataLoader, Dataset\n",
    "import torch\n",
    "\n",
    "class TextDataset(Dataset):\n",
    "    def __init__(self, text, max_length, stride, encoder=\"gpt2\") -> None:\n",
    "        self.data_text = text\n",
    "        self.max_length = max_length\n",
    "        self.stride = stride\n",
    "        self.encoder = tiktoken.get_encoding(encoder)\n",
    "\n",
    "        self.input_ids = []\n",
    "        self.target_ids = []\n",
    "\n",
    "        self.preprocess_dataset()\n",
    "\n",
    "    def preprocess_dataset(self) -> None:\n",
    "        encoded_data = self.encoder.encode(self.data_text)\n",
    "        \n",
    "        for i in range(0, len(encoded_data) - self.max_length, self.stride):\n",
    "            self.input_ids.append(torch.tensor(encoded_data[i: i+self.max_length]))\n",
    "            self.target_ids.append(torch.tensor(encoded_data[i+1: i+self.max_length+1]))\n",
    "\n",
    "    \n",
    "    def __getitem__(self, index) -> tuple:\n",
    "        return self.input_ids[index], self.target_ids[index]\n",
    "    \n",
    "    def __len__(self) -> int:\n",
    "        return len(self.input_ids)\n",
    "        "
   ]
  },
  {
   "cell_type": "code",
   "execution_count": 32,
   "metadata": {},
   "outputs": [],
   "source": [
    "def train_test_split(data:str, train_ratio:float) -> tuple[str, str]:\n",
    "    n = int(len(data) * train_ratio)\n",
    "    training_text = data[:n]\n",
    "    testing_text = data[n:]\n",
    "    return training_text, testing_text"
   ]
  },
  {
   "cell_type": "code",
   "execution_count": 33,
   "metadata": {},
   "outputs": [],
   "source": [
    "def create_dataloader(text, max_length, stride, batch_size, tokenizer=\"gpt2\", shuffle=True, drop_last=True,num_workers=0) -> DataLoader:\n",
    "    dataset = TextDataset(text, max_length, stride, tokenizer)\n",
    "    return DataLoader(dataset, batch_size, shuffle, num_workers=num_workers, drop_last=drop_last)"
   ]
  },
  {
   "cell_type": "code",
   "execution_count": 40,
   "metadata": {},
   "outputs": [],
   "source": [
    "train_data, test_data = train_test_split(data, 0.9)\n",
    "train_dataloader = create_dataloader(train_data, 4, 2, 4, shuffle=False)\n",
    "test_dataloader = create_dataloader(test_data, 4, 2, 4, shuffle=False)"
   ]
  },
  {
   "cell_type": "code",
   "execution_count": 41,
   "metadata": {},
   "outputs": [
    {
     "data": {
      "text/plain": [
       "[tensor([[   30,   198,   198, 28934],\n",
       "         [  198, 28934,  8895,    46],\n",
       "         [ 8895,    46,    25,   198],\n",
       "         [   25,   198, 10248,  2146]]),\n",
       " tensor([[  198,   198, 28934,  8895],\n",
       "         [28934,  8895,    46,    25],\n",
       "         [   46,    25,   198, 10248],\n",
       "         [  198, 10248,  2146,   808]])]"
      ]
     },
     "execution_count": 41,
     "metadata": {},
     "output_type": "execute_result"
    }
   ],
   "source": [
    "next(iter(test_dataloader))"
   ]
  },
  {
   "cell_type": "markdown",
   "metadata": {},
   "source": [
    "# Transformer architecture"
   ]
  },
  {
   "cell_type": "code",
   "execution_count": 42,
   "metadata": {},
   "outputs": [],
   "source": [
    "import torch.nn as nn"
   ]
  },
  {
   "cell_type": "code",
   "execution_count": 44,
   "metadata": {},
   "outputs": [
    {
     "data": {
      "text/plain": [
       "tensor([[0., 1., 1.],\n",
       "        [0., 0., 1.],\n",
       "        [0., 0., 0.]])"
      ]
     },
     "execution_count": 44,
     "metadata": {},
     "output_type": "execute_result"
    }
   ],
   "source": [
    "torch.triu(torch.ones(3,3), 1)"
   ]
  },
  {
   "cell_type": "code",
   "execution_count": 48,
   "metadata": {},
   "outputs": [
    {
     "data": {
      "text/plain": [
       "torch.Size([1, 2, 4, 3])"
      ]
     },
     "execution_count": 48,
     "metadata": {},
     "output_type": "execute_result"
    }
   ],
   "source": [
    "torch.ones((1,2,3,4)).transpose(2,3).shape"
   ]
  },
  {
   "cell_type": "code",
   "execution_count": 51,
   "metadata": {},
   "outputs": [],
   "source": [
    "class MultiheadAttention(nn.Module):\n",
    "    def __init__(self, d_in, d_out, context_length, num_heads, dropout, qkv_bias=False) -> None:\n",
    "        assert d_out % num_heads == 0, \"d_out must be divisible by num_heads\"\n",
    "\n",
    "        super().__init__()\n",
    "        self.d_in = d_in\n",
    "        self.d_out = d_out\n",
    "        self.context_length = context_length\n",
    "        self.num_heads = num_heads\n",
    "        self.head_dim = d_out // num_heads\n",
    "        self.dropout = nn.Dropout(p = dropout)\n",
    "\n",
    "        self.W_query = nn.Linear(d_in, d_out, bias = qkv_bias)\n",
    "        self.W_key = nn.Linear(d_in, d_out, bias = qkv_bias)\n",
    "        self.W_value = nn.Linear(d_in, d_out, bias = qkv_bias)\n",
    "\n",
    "        self.linear = nn.Linear(d_out, d_out)\n",
    "\n",
    "        self.register_buffer(\"mask\", torch.triu(torch.ones((context_length, context_length)), diagonal=1))\n",
    "\n",
    "    def forward(self, x:torch.tensor) -> torch.tensor:\n",
    "        b, num_tokens, emb_dim = x.shape # batch, num_tokens, emb_dimension\n",
    "        queries = self.W_query(x) # batch, num_tokens, d_out\n",
    "        keys = self.W_key(x) # batch, num_tokens, d_out\n",
    "        values = self.W_value(x) # batch, num_tokens, d_out\n",
    "\n",
    "        queries = queries.view(b, num_tokens, self.num_heads, self.head_dim) # batch, num_tokens, num_heads, head_dim\n",
    "        keys = keys.view(b, num_tokens, self.num_heads, self.head_dim) # batch, num_tokens, num_heads, head_dim\n",
    "        values = values.view(b, num_tokens, self.num_heads, self.head_dim) # batch, num_tokens, num_heads, head_dim\n",
    "\n",
    "        queries = queries.transpose(1,2) # batch, num_heads, num_tokens, head_dim\n",
    "        keys = keys.transpose(1,2) # batch, num_heads, num_tokens, head_dim\n",
    "        values = values.transpose(1,2) # batch, num_heads, num_tokens, head_dim\n",
    "\n",
    "        attn_scores = queries @ keys.transpose(2,3) # batch, num_heads, num_tokens, num_tokens\n",
    "        bool_mask = self.mask.bool()[num_tokens:, num_tokens:] # num_tokens, num_tokens\n",
    "        attn_scores.masked_fill_(bool_mask, -torch.inf) # batch, num_heads, num_tokens, num_tokens\n",
    "        attn_weights = torch.softmax(attn_scores / (keys.shape[3])**0.5, dim=3) # batch, num_heads, num_tokens, num_tokens\n",
    "        attn_weights = self.dropout(attn_weights)\n",
    "\n",
    "        z = attn_weights @ values # batch, num_heads, num_tokens, head_dim\n",
    "        z = z.transpose(1,2) # batch, num_tokens, num_heads, head_dim\n",
    "        z = z.view(b, num_tokens, self.d_out) # batch, num_tokens, d_out\n",
    "\n",
    "        z = self.linear(z) # batch, num_tokens, d_out\n",
    "        return z"
   ]
  },
  {
   "cell_type": "code",
   "execution_count": 56,
   "metadata": {},
   "outputs": [],
   "source": [
    "class LayerNorm(nn.Module):\n",
    "    def __init__(self, embedding_dim) -> None:\n",
    "        super().__init__()\n",
    "        self.scale = nn.Parameter(torch.ones(embedding_dim))\n",
    "        self.shift = nn.Parameter(torch.zeros(embedding_dim))\n",
    "\n",
    "        self.eps = 1e-5\n",
    "\n",
    "    def forward(self, x:torch.tensor):\n",
    "        mean = x.mean(dim=-1, keepdim = True)\n",
    "        var = x.var(dim=-1, keepdim = True, unbiased = False)\n",
    "\n",
    "        x = (x - mean) / torch.sqrt(var + self.eps)\n",
    "        return self.scale * x + self.shift\n"
   ]
  },
  {
   "cell_type": "code",
   "execution_count": null,
   "metadata": {},
   "outputs": [],
   "source": [
    "\n",
    "\n",
    "class FeedForward(nn.Module):\n",
    "    def __init__(self, emb_dim):\n",
    "        super().__init__()\n",
    "        \n",
    "        self.layers = nn.Sequential(*[\n",
    "            nn.Linear(emb_dim, 4*emb_dim),\n",
    "            nn.GELU(),\n",
    "            nn.Linear(4*emb_dim, emb_dim)\n",
    "        ])\n",
    "\n",
    "    def forward(self,x):\n",
    "        x = self.layers(x)\n",
    "        return x"
   ]
  },
  {
   "cell_type": "code",
   "execution_count": 53,
   "metadata": {},
   "outputs": [],
   "source": [
    "class TransformerBlock(nn.Module):\n",
    "    def __init__(self, vocabulary_size, context_length, embedding_dim,  num_heads, dropout, qkv_bias=False) -> None:\n",
    "        \n",
    "        self.layer_norm1 = LayerNorm(embedding_dim)\n",
    "        self.layer_norm2 = LayerNorm(embedding_dim)\n",
    "\n",
    "        self.dropout = nn.Dropout(dropout)\n",
    "\n",
    "        self.attention = MultiheadAttention(embedding_dim, embedding_dim, context_length, num_heads, dropout, qkv_bias)\n",
    "\n",
    "        self.ff = FeedForward(embedding_dim)\n",
    "\n",
    "    def forward(self, x):\n",
    "        x_res = x\n",
    "        x = self.layer_norm1(x)\n",
    "        x = self.attention(x)\n",
    "        x = self.dropout(x)\n",
    "        x = x_res + x\n",
    "\n",
    "        x_res = x\n",
    "        x = self.layer_norm2(x)\n",
    "        x = self.ff(x)\n",
    "        x = self.dropout(x)\n",
    "        x = x_res + x\n",
    "\n",
    "        return x\n"
   ]
  },
  {
   "cell_type": "code",
   "execution_count": 61,
   "metadata": {},
   "outputs": [],
   "source": [
    "class GPTModel(nn.Module):\n",
    "    def __init__(self, cfg) -> None:\n",
    "        super().__init__()\n",
    "        vocabulary_size = cfg[\"vocab_size\"]\n",
    "        embedding_dim = cfg[\"emb_dim\"]\n",
    "        context_length = cfg[\"context_length\"]\n",
    "        num_heads = cfg[\"num_heads\"]\n",
    "        drop_rate = cfg[\"drop_rate\"]\n",
    "        qkv_bias = cfg[\"qkv_bias\"]\n",
    "\n",
    "        self.token_embedding = nn.Embedding(vocabulary_size, embedding_dim)\n",
    "        self.position_embedding = nn.Embedding(context_length, embedding_dim)\n",
    "\n",
    "        self.dropout = nn.Dropout(drop_rate)\n",
    "\n",
    "        self.transformer_blocks = nn.Sequential(*[\n",
    "            TransformerBlock(vocabulary_size, context_length, embedding_dim, num_heads, drop_rate, qkv_bias)\n",
    "        ])\n",
    "        self.final_layer_norm = LayerNorm(embedding_dim)\n",
    "        self.output_layer = nn.Linear(embedding_dim, vocabulary_size)\n",
    "\n",
    "    def forward(self, x):\n",
    "        b, token_length = x.shape\n",
    "        x = self.token_embedding(x) + self.position_embedding(torch.arange(0, token_length, device=x.device))\n",
    "        x = self.dropout(x)\n",
    "        x = self.transformer_blocks(x)\n",
    "        x = self.final_layer_norm(x)\n",
    "        logits = self.output_layer(x)\n",
    "        return logits\n"
   ]
  }
 ],
 "metadata": {
  "kernelspec": {
   "display_name": "base",
   "language": "python",
   "name": "python3"
  },
  "language_info": {
   "codemirror_mode": {
    "name": "ipython",
    "version": 3
   },
   "file_extension": ".py",
   "mimetype": "text/x-python",
   "name": "python",
   "nbconvert_exporter": "python",
   "pygments_lexer": "ipython3",
   "version": "3.11.5"
  }
 },
 "nbformat": 4,
 "nbformat_minor": 2
}
